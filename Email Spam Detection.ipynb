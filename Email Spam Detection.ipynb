{
 "cells": [
  {
   "cell_type": "code",
   "execution_count": 2,
   "id": "c992ee1a-a0d9-4d98-aa01-c2f41ecd5c31",
   "metadata": {},
   "outputs": [],
   "source": [
    "import pandas as pd\n",
    "import numpy as np\n",
    "import matplotlib.pyplot as plt\n",
    "import spacy"
   ]
  },
  {
   "cell_type": "code",
   "execution_count": 3,
   "id": "08124d54-dad5-445d-9e9e-6dbb768e8216",
   "metadata": {},
   "outputs": [],
   "source": [
    "df= pd.read_csv('spam.csv',encoding='ISO-8859-1')"
   ]
  },
  {
   "cell_type": "code",
   "execution_count": null,
   "id": "3e08970b-7072-4212-bbda-5ade37ea1379",
   "metadata": {},
   "outputs": [],
   "source": [
    "df.head(5)"
   ]
  },
  {
   "cell_type": "code",
   "execution_count": null,
   "id": "0530c5b4-d94a-4e56-9202-e924c93fa6e1",
   "metadata": {},
   "outputs": [],
   "source": [
    "df.tail(5)"
   ]
  },
  {
   "cell_type": "code",
   "execution_count": null,
   "id": "b4ccdbd5-a7aa-4ff9-91cc-7048b13886df",
   "metadata": {},
   "outputs": [],
   "source": [
    "df.sample(5)"
   ]
  },
  {
   "cell_type": "code",
   "execution_count": 4,
   "id": "8220ccbd-61e4-4cb2-8f5b-f46403cfc598",
   "metadata": {},
   "outputs": [
    {
     "data": {
      "text/plain": [
       "Index(['v1', 'v2', 'Unnamed: 2', 'Unnamed: 3', 'Unnamed: 4'], dtype='object')"
      ]
     },
     "execution_count": 4,
     "metadata": {},
     "output_type": "execute_result"
    }
   ],
   "source": [
    "df.columns"
   ]
  },
  {
   "cell_type": "code",
   "execution_count": 5,
   "id": "321d4348-bf7b-494f-943f-27a416978c1a",
   "metadata": {},
   "outputs": [
    {
     "data": {
      "text/plain": [
       "(5572, 5)"
      ]
     },
     "execution_count": 5,
     "metadata": {},
     "output_type": "execute_result"
    }
   ],
   "source": [
    "df.shape"
   ]
  },
  {
   "cell_type": "code",
   "execution_count": 6,
   "id": "c977ac35-72b4-4496-8da5-17518c2b49ea",
   "metadata": {},
   "outputs": [
    {
     "data": {
      "text/plain": [
       "v1               0\n",
       "v2               0\n",
       "Unnamed: 2    5522\n",
       "Unnamed: 3    5560\n",
       "Unnamed: 4    5566\n",
       "dtype: int64"
      ]
     },
     "execution_count": 6,
     "metadata": {},
     "output_type": "execute_result"
    }
   ],
   "source": [
    "df.isnull().sum()"
   ]
  },
  {
   "cell_type": "code",
   "execution_count": null,
   "id": "52d3578d-4fc1-4b30-803d-723ec96c2393",
   "metadata": {},
   "outputs": [],
   "source": [
    "df[df['Unnamed: 2'].notnull()].head(5)"
   ]
  },
  {
   "cell_type": "code",
   "execution_count": 7,
   "id": "553490af-cd02-4adb-802e-307c4516e730",
   "metadata": {},
   "outputs": [],
   "source": [
    "df.rename(columns={'v1':'Label', 'v2':'Text', 'Unnamed: 2':'text2','Unnamed: 3':'text3', 'Unnamed: 4':'text4' },inplace=True)"
   ]
  },
  {
   "cell_type": "code",
   "execution_count": 8,
   "id": "d3e309a2-316b-4dfd-ad60-9e0ea0cef45f",
   "metadata": {},
   "outputs": [
    {
     "data": {
      "text/plain": [
       "Index(['Label', 'Text', 'text2', 'text3', 'text4'], dtype='object')"
      ]
     },
     "execution_count": 8,
     "metadata": {},
     "output_type": "execute_result"
    }
   ],
   "source": [
    "df.columns"
   ]
  },
  {
   "cell_type": "code",
   "execution_count": 9,
   "id": "8cf47f33-67e0-4643-bbe1-dbdf70d1b6d8",
   "metadata": {},
   "outputs": [
    {
     "name": "stderr",
     "output_type": "stream",
     "text": [
      "C:\\Users\\Premier UK\\AppData\\Local\\Temp\\ipykernel_52792\\3457626413.py:1: FutureWarning: A value is trying to be set on a copy of a DataFrame or Series through chained assignment using an inplace method.\n",
      "The behavior will change in pandas 3.0. This inplace method will never work because the intermediate object on which we are setting values always behaves as a copy.\n",
      "\n",
      "For example, when doing 'df[col].method(value, inplace=True)', try using 'df.method({col: value}, inplace=True)' or df[col] = df[col].method(value) instead, to perform the operation inplace on the original object.\n",
      "\n",
      "\n",
      "  df['text2'].fillna('',inplace=True)\n",
      "C:\\Users\\Premier UK\\AppData\\Local\\Temp\\ipykernel_52792\\3457626413.py:2: FutureWarning: A value is trying to be set on a copy of a DataFrame or Series through chained assignment using an inplace method.\n",
      "The behavior will change in pandas 3.0. This inplace method will never work because the intermediate object on which we are setting values always behaves as a copy.\n",
      "\n",
      "For example, when doing 'df[col].method(value, inplace=True)', try using 'df.method({col: value}, inplace=True)' or df[col] = df[col].method(value) instead, to perform the operation inplace on the original object.\n",
      "\n",
      "\n",
      "  df['text3'].fillna('',inplace=True)\n",
      "C:\\Users\\Premier UK\\AppData\\Local\\Temp\\ipykernel_52792\\3457626413.py:3: FutureWarning: A value is trying to be set on a copy of a DataFrame or Series through chained assignment using an inplace method.\n",
      "The behavior will change in pandas 3.0. This inplace method will never work because the intermediate object on which we are setting values always behaves as a copy.\n",
      "\n",
      "For example, when doing 'df[col].method(value, inplace=True)', try using 'df.method({col: value}, inplace=True)' or df[col] = df[col].method(value) instead, to perform the operation inplace on the original object.\n",
      "\n",
      "\n",
      "  df['text4'].fillna('',inplace=True)\n"
     ]
    }
   ],
   "source": [
    "df['text2'].fillna('',inplace=True)\n",
    "df['text3'].fillna('',inplace=True)\n",
    "df['text4'].fillna('',inplace=True)"
   ]
  },
  {
   "cell_type": "code",
   "execution_count": 10,
   "id": "06d34bc3-14af-46c9-98ad-83911c53d62c",
   "metadata": {},
   "outputs": [],
   "source": [
    "df['new_text']= df['Text'].astype(str)+\". \"+df['text2'].astype(str)+\". \"+df['text3'].astype(str)+\". \"+df['text4'].astype(str)"
   ]
  },
  {
   "cell_type": "code",
   "execution_count": 11,
   "id": "7d918f22-df67-4459-9bec-2ce2373a1ce0",
   "metadata": {},
   "outputs": [
    {
     "data": {
      "text/html": [
       "<div>\n",
       "<style scoped>\n",
       "    .dataframe tbody tr th:only-of-type {\n",
       "        vertical-align: middle;\n",
       "    }\n",
       "\n",
       "    .dataframe tbody tr th {\n",
       "        vertical-align: top;\n",
       "    }\n",
       "\n",
       "    .dataframe thead th {\n",
       "        text-align: right;\n",
       "    }\n",
       "</style>\n",
       "<table border=\"1\" class=\"dataframe\">\n",
       "  <thead>\n",
       "    <tr style=\"text-align: right;\">\n",
       "      <th></th>\n",
       "      <th>Label</th>\n",
       "      <th>Text</th>\n",
       "      <th>text2</th>\n",
       "      <th>text3</th>\n",
       "      <th>text4</th>\n",
       "      <th>new_text</th>\n",
       "    </tr>\n",
       "  </thead>\n",
       "  <tbody>\n",
       "    <tr>\n",
       "      <th>0</th>\n",
       "      <td>ham</td>\n",
       "      <td>Go until jurong point, crazy.. Available only ...</td>\n",
       "      <td></td>\n",
       "      <td></td>\n",
       "      <td></td>\n",
       "      <td>Go until jurong point, crazy.. Available only ...</td>\n",
       "    </tr>\n",
       "    <tr>\n",
       "      <th>1</th>\n",
       "      <td>ham</td>\n",
       "      <td>Ok lar... Joking wif u oni...</td>\n",
       "      <td></td>\n",
       "      <td></td>\n",
       "      <td></td>\n",
       "      <td>Ok lar... Joking wif u oni.... . .</td>\n",
       "    </tr>\n",
       "    <tr>\n",
       "      <th>2</th>\n",
       "      <td>spam</td>\n",
       "      <td>Free entry in 2 a wkly comp to win FA Cup fina...</td>\n",
       "      <td></td>\n",
       "      <td></td>\n",
       "      <td></td>\n",
       "      <td>Free entry in 2 a wkly comp to win FA Cup fina...</td>\n",
       "    </tr>\n",
       "    <tr>\n",
       "      <th>3</th>\n",
       "      <td>ham</td>\n",
       "      <td>U dun say so early hor... U c already then say...</td>\n",
       "      <td></td>\n",
       "      <td></td>\n",
       "      <td></td>\n",
       "      <td>U dun say so early hor... U c already then say...</td>\n",
       "    </tr>\n",
       "    <tr>\n",
       "      <th>4</th>\n",
       "      <td>ham</td>\n",
       "      <td>Nah I don't think he goes to usf, he lives aro...</td>\n",
       "      <td></td>\n",
       "      <td></td>\n",
       "      <td></td>\n",
       "      <td>Nah I don't think he goes to usf, he lives aro...</td>\n",
       "    </tr>\n",
       "  </tbody>\n",
       "</table>\n",
       "</div>"
      ],
      "text/plain": [
       "  Label                                               Text text2 text3 text4  \\\n",
       "0   ham  Go until jurong point, crazy.. Available only ...                     \n",
       "1   ham                      Ok lar... Joking wif u oni...                     \n",
       "2  spam  Free entry in 2 a wkly comp to win FA Cup fina...                     \n",
       "3   ham  U dun say so early hor... U c already then say...                     \n",
       "4   ham  Nah I don't think he goes to usf, he lives aro...                     \n",
       "\n",
       "                                            new_text  \n",
       "0  Go until jurong point, crazy.. Available only ...  \n",
       "1                Ok lar... Joking wif u oni.... . .   \n",
       "2  Free entry in 2 a wkly comp to win FA Cup fina...  \n",
       "3  U dun say so early hor... U c already then say...  \n",
       "4  Nah I don't think he goes to usf, he lives aro...  "
      ]
     },
     "execution_count": 11,
     "metadata": {},
     "output_type": "execute_result"
    }
   ],
   "source": [
    "df.head(5)"
   ]
  },
  {
   "cell_type": "code",
   "execution_count": 12,
   "id": "1587c558-36cd-49d5-af9b-ffc684a30394",
   "metadata": {},
   "outputs": [
    {
     "data": {
      "text/plain": [
       "'Your free ringtone is waiting to be collected. Simply text the password \\\\MIX\\\\\" to 85069 to verify. Get Usher and Britney. FML.  PO Box 5249.  MK17 92H. 450Ppw 16\". '"
      ]
     },
     "execution_count": 12,
     "metadata": {},
     "output_type": "execute_result"
    }
   ],
   "source": [
    "df['new_text'].iloc[95]"
   ]
  },
  {
   "cell_type": "code",
   "execution_count": 13,
   "id": "8bfaf68d-c464-4e26-876c-9003cd66c6d2",
   "metadata": {},
   "outputs": [
    {
     "data": {
      "text/plain": [
       "Label       0\n",
       "Text        0\n",
       "text2       0\n",
       "text3       0\n",
       "text4       0\n",
       "new_text    0\n",
       "dtype: int64"
      ]
     },
     "execution_count": 13,
     "metadata": {},
     "output_type": "execute_result"
    }
   ],
   "source": [
    "df.isna().sum()"
   ]
  },
  {
   "cell_type": "code",
   "execution_count": 14,
   "id": "e03b0f50-f01e-4a46-a37d-8ed8aeb43a27",
   "metadata": {},
   "outputs": [],
   "source": [
    "df.drop(['Text','text2','text3','text4'],axis=1,inplace=True)"
   ]
  },
  {
   "cell_type": "code",
   "execution_count": 15,
   "id": "6de33abb-923a-4b17-a301-4bdd6576c972",
   "metadata": {},
   "outputs": [
    {
     "data": {
      "text/plain": [
       "Index(['Label', 'new_text'], dtype='object')"
      ]
     },
     "execution_count": 15,
     "metadata": {},
     "output_type": "execute_result"
    }
   ],
   "source": [
    "df.columns"
   ]
  },
  {
   "cell_type": "markdown",
   "id": "d352a069-c1f9-45a4-ae59-036c3ff7c30a",
   "metadata": {},
   "source": [
    "# Imbalanced data"
   ]
  },
  {
   "cell_type": "code",
   "execution_count": 16,
   "id": "02a43731-0705-44b7-ba65-1775ca8b425e",
   "metadata": {},
   "outputs": [
    {
     "data": {
      "text/plain": [
       "Label\n",
       "ham     4825\n",
       "spam     747\n",
       "Name: count, dtype: int64"
      ]
     },
     "execution_count": 16,
     "metadata": {},
     "output_type": "execute_result"
    }
   ],
   "source": [
    "df['Label'].value_counts()"
   ]
  },
  {
   "cell_type": "code",
   "execution_count": 17,
   "id": "f6419945-ee3b-4fb9-b7c2-14e9d1c9dfee",
   "metadata": {},
   "outputs": [],
   "source": [
    "df['Label']=df['Label'].map({'ham':0,'spam':1})"
   ]
  },
  {
   "cell_type": "code",
   "execution_count": 18,
   "id": "c1583554-1281-4079-af95-29bd6e1bc5b0",
   "metadata": {},
   "outputs": [
    {
     "data": {
      "text/plain": [
       "Label\n",
       "0    4825\n",
       "1     747\n",
       "Name: count, dtype: int64"
      ]
     },
     "execution_count": 18,
     "metadata": {},
     "output_type": "execute_result"
    }
   ],
   "source": [
    "df['Label'].value_counts()"
   ]
  },
  {
   "cell_type": "code",
   "execution_count": 19,
   "id": "d3f73df0-18a0-46bf-b8e2-b0d549eecead",
   "metadata": {},
   "outputs": [
    {
     "data": {
      "text/plain": [
       "<Axes: xlabel='Label'>"
      ]
     },
     "execution_count": 19,
     "metadata": {},
     "output_type": "execute_result"
    },
    {
     "data": {
      "image/png": "[encoded data removed]",
      "text/plain": [
       "<Figure size 300x300 with 1 Axes>"
      ]
     },
     "metadata": {},
     "output_type": "display_data"
    }
   ],
   "source": [
    "df['Label'].value_counts().plot(kind='bar', figsize=(3,3), color='green')"
   ]
  },
  {
   "cell_type": "markdown",
   "id": "a8171e11-708a-4bb2-8404-3ff75cc28a46",
   "metadata": {},
   "source": [
    "# Balancing Imbalanced data"
   ]
  },
  {
   "cell_type": "code",
   "execution_count": 20,
   "id": "241a83de-5d75-4648-be9c-e1e1d2f56dd0",
   "metadata": {},
   "outputs": [],
   "source": [
    "from imblearn.over_sampling import RandomOverSampler"
   ]
  },
  {
   "cell_type": "code",
   "execution_count": 21,
   "id": "24b135b7-5d23-4b45-986a-801a98e8a5e1",
   "metadata": {},
   "outputs": [],
   "source": [
    "X=df.drop('Label',axis=1)\n",
    "y=df['Label']"
   ]
  },
  {
   "cell_type": "code",
   "execution_count": 22,
   "id": "ae016131-da0e-4678-a1c9-9d2fcb4b6032",
   "metadata": {},
   "outputs": [],
   "source": [
    "ros=RandomOverSampler(sampling_strategy='minority')\n",
    "X,y=ros.fit_resample(X,y)"
   ]
  },
  {
   "cell_type": "code",
   "execution_count": 23,
   "id": "74863d30-59fa-4a03-a31e-cf0213f8e844",
   "metadata": {},
   "outputs": [
    {
     "data": {
      "text/plain": [
       "<Axes: xlabel='Label'>"
      ]
     },
     "execution_count": 23,
     "metadata": {},
     "output_type": "execute_result"
    },
    {
     "data": {
      "image/png": "[encoded data removed]",
      "text/plain": [
       "<Figure size 300x300 with 1 Axes>"
      ]
     },
     "metadata": {},
     "output_type": "display_data"
    }
   ],
   "source": [
    "y.value_counts().plot(kind='bar',figsize=(3,3))"
   ]
  },
  {
   "cell_type": "code",
   "execution_count": 24,
   "id": "8ef3fb28-aff1-41c1-ac58-db89da756eaf",
   "metadata": {},
   "outputs": [],
   "source": [
    "nlp=spacy.load('en_core_web_lg')"
   ]
  },
  {
   "cell_type": "markdown",
   "id": "23bd4715-6778-408a-ae34-1587b008811d",
   "metadata": {},
   "source": [
    "# Data Preprocessing"
   ]
  },
  {
   "cell_type": "code",
   "execution_count": 25,
   "id": "290dabb4-3ec3-4c44-bbca-719716513a02",
   "metadata": {},
   "outputs": [],
   "source": [
    "def clean_text(x):\n",
    "    \n",
    "    x=x.lower()\n",
    "    data=nlp(x)\n",
    "    l=[]\n",
    "    for tokens in data:\n",
    "        if tokens.is_punct or tokens.is_stop:\n",
    "            continue\n",
    "    \n",
    "        l.append(tokens.lemma_)\n",
    "    return l\n",
    "\n",
    "    \n",
    "    "
   ]
  },
  {
   "cell_type": "code",
   "execution_count": 26,
   "id": "ee12cacc-4071-4ce4-b406-e9db984a2d3a",
   "metadata": {},
   "outputs": [],
   "source": [
    "X['clean_text']=X['new_text'].apply(lambda x: clean_text(x))\n",
    "#clean_text('Congratulation You Won $10000 lottery ! Hurray :)')"
   ]
  },
  {
   "cell_type": "code",
   "execution_count": 29,
   "id": "fc7f56ed-ccda-4c25-a11b-e14471c8678c",
   "metadata": {},
   "outputs": [
    {
     "data": {
      "text/html": [
       "<div>\n",
       "<style scoped>\n",
       "    .dataframe tbody tr th:only-of-type {\n",
       "        vertical-align: middle;\n",
       "    }\n",
       "\n",
       "    .dataframe tbody tr th {\n",
       "        vertical-align: top;\n",
       "    }\n",
       "\n",
       "    .dataframe thead th {\n",
       "        text-align: right;\n",
       "    }\n",
       "</style>\n",
       "<table border=\"1\" class=\"dataframe\">\n",
       "  <thead>\n",
       "    <tr style=\"text-align: right;\">\n",
       "      <th></th>\n",
       "      <th>new_text</th>\n",
       "      <th>clean_text</th>\n",
       "      <th>vector_text</th>\n",
       "    </tr>\n",
       "  </thead>\n",
       "  <tbody>\n",
       "    <tr>\n",
       "      <th>0</th>\n",
       "      <td>Go until jurong point, crazy.. Available only ...</td>\n",
       "      <td>[jurong, point, crazy, available, bugis, n, gr...</td>\n",
       "      <td>[-0.16113506, 0.42170903, 0.010429821, -0.1512...</td>\n",
       "    </tr>\n",
       "    <tr>\n",
       "      <th>1</th>\n",
       "      <td>Ok lar... Joking wif u oni.... . .</td>\n",
       "      <td>[ok, lar, joke, wif, u, oni]</td>\n",
       "      <td>[-0.1983848, 0.31670037, -0.013645359, -0.2227...</td>\n",
       "    </tr>\n",
       "    <tr>\n",
       "      <th>2</th>\n",
       "      <td>Free entry in 2 a wkly comp to win FA Cup fina...</td>\n",
       "      <td>[free, entry, 2, wkly, comp, win, fa, cup, fin...</td>\n",
       "      <td>[-0.1707551, 0.41384953, 0.0027528906, -0.0860...</td>\n",
       "    </tr>\n",
       "    <tr>\n",
       "      <th>3</th>\n",
       "      <td>U dun say so early hor... U c already then say...</td>\n",
       "      <td>[u, dun, early, hor, u, c]</td>\n",
       "      <td>[-0.21428001, 0.40457818, -0.028632557, -0.213...</td>\n",
       "    </tr>\n",
       "    <tr>\n",
       "      <th>4</th>\n",
       "      <td>Nah I don't think he goes to usf, he lives aro...</td>\n",
       "      <td>[nah, think, go, usf, live]</td>\n",
       "      <td>[-0.15786237, 0.4407149, -0.036105566, -0.1291...</td>\n",
       "    </tr>\n",
       "  </tbody>\n",
       "</table>\n",
       "</div>"
      ],
      "text/plain": [
       "                                            new_text  \\\n",
       "0  Go until jurong point, crazy.. Available only ...   \n",
       "1                Ok lar... Joking wif u oni.... . .    \n",
       "2  Free entry in 2 a wkly comp to win FA Cup fina...   \n",
       "3  U dun say so early hor... U c already then say...   \n",
       "4  Nah I don't think he goes to usf, he lives aro...   \n",
       "\n",
       "                                          clean_text  \\\n",
       "0  [jurong, point, crazy, available, bugis, n, gr...   \n",
       "1                       [ok, lar, joke, wif, u, oni]   \n",
       "2  [free, entry, 2, wkly, comp, win, fa, cup, fin...   \n",
       "3                         [u, dun, early, hor, u, c]   \n",
       "4                        [nah, think, go, usf, live]   \n",
       "\n",
       "                                         vector_text  \n",
       "0  [-0.16113506, 0.42170903, 0.010429821, -0.1512...  \n",
       "1  [-0.1983848, 0.31670037, -0.013645359, -0.2227...  \n",
       "2  [-0.1707551, 0.41384953, 0.0027528906, -0.0860...  \n",
       "3  [-0.21428001, 0.40457818, -0.028632557, -0.213...  \n",
       "4  [-0.15786237, 0.4407149, -0.036105566, -0.1291...  "
      ]
     },
     "execution_count": 29,
     "metadata": {},
     "output_type": "execute_result"
    }
   ],
   "source": [
    "X.head(5)"
   ]
  },
  {
   "cell_type": "code",
   "execution_count": 28,
   "id": "f2ac1035-844d-47b5-b4fb-0a56e3e712c6",
   "metadata": {},
   "outputs": [],
   "source": [
    "X['vector_text']=X['clean_text'].apply(lambda x: nlp(str(x)).vector)"
   ]
  },
  {
   "cell_type": "markdown",
   "id": "13103f73-2672-4e11-b979-e490e27e4b40",
   "metadata": {},
   "source": [
    "# Train Test Split"
   ]
  },
  {
   "cell_type": "code",
   "execution_count": 32,
   "id": "c0915cbf-7b59-4d6d-8ad5-923c8f64a019",
   "metadata": {},
   "outputs": [],
   "source": [
    "from sklearn.model_selection import train_test_split\n",
    "from sklearn.metrics import classification_report"
   ]
  },
  {
   "cell_type": "code",
   "execution_count": 40,
   "id": "fa3ab957-88c4-44b9-8215-fb6c7703cab7",
   "metadata": {},
   "outputs": [],
   "source": [
    "X_train, X_test, y_train, y_test = train_test_split(X['vector_text'].values, y, test_size=0.33, random_state=42)"
   ]
  },
  {
   "cell_type": "code",
   "execution_count": 41,
   "id": "99e9b808-d05f-454d-b490-df3fc00eea71",
   "metadata": {},
   "outputs": [],
   "source": [
    "X_train_2d=np.stack(X_train)\n",
    "X_test_2d=np.stack(X_test)"
   ]
  },
  {
   "cell_type": "markdown",
   "id": "bda32625-ca1f-42b8-8b40-eec5b62040db",
   "metadata": {},
   "source": [
    "# Machine Learning Models"
   ]
  },
  {
   "cell_type": "markdown",
   "id": "85b939dc-8cb8-4783-a3d0-cf4ed33f737c",
   "metadata": {},
   "source": [
    "## Logistic Regression"
   ]
  },
  {
   "cell_type": "code",
   "execution_count": 36,
   "id": "e8dda699-acd3-42e1-be1b-3451807de77f",
   "metadata": {},
   "outputs": [],
   "source": [
    "from sklearn.linear_model import LogisticRegression"
   ]
  },
  {
   "cell_type": "code",
   "execution_count": 44,
   "id": "ea637b59-a487-45bc-bce4-32b01ec4a2f7",
   "metadata": {},
   "outputs": [
    {
     "name": "stdout",
     "output_type": "stream",
     "text": [
      "              precision    recall  f1-score   support\n",
      "\n",
      "           0       0.96      0.94      0.95      1608\n",
      "           1       0.94      0.96      0.95      1577\n",
      "\n",
      "    accuracy                           0.95      3185\n",
      "   macro avg       0.95      0.95      0.95      3185\n",
      "weighted avg       0.95      0.95      0.95      3185\n",
      "\n"
     ]
    }
   ],
   "source": [
    "lr_model=LogisticRegression()\n",
    "lr_model.fit(X_train_2d,y_train)\n",
    "lr_pred=lr_model.predict(X_test_2d)\n",
    "print(classification_report(y_test,lr_pred))"
   ]
  },
  {
   "cell_type": "markdown",
   "id": "9ab5e185-864d-47d9-9069-4cbb1e5c1b5a",
   "metadata": {},
   "source": [
    "## SVM"
   ]
  },
  {
   "cell_type": "code",
   "execution_count": 45,
   "id": "e82f274c-25ca-4307-bda2-3b2fdf225736",
   "metadata": {},
   "outputs": [],
   "source": [
    "from sklearn.svm import LinearSVC"
   ]
  },
  {
   "cell_type": "code",
   "execution_count": 47,
   "id": "58a36327-7f57-4e56-868c-8a19903bbce2",
   "metadata": {},
   "outputs": [
    {
     "name": "stderr",
     "output_type": "stream",
     "text": [
      "C:\\Users\\Premier UK\\AppData\\Local\\Programs\\Python\\Python312\\Lib\\site-packages\\sklearn\\svm\\_classes.py:31: FutureWarning: The default value of `dual` will change from `True` to `'auto'` in 1.5. Set the value of `dual` explicitly to suppress the warning.\n",
      "  warnings.warn(\n"
     ]
    },
    {
     "name": "stdout",
     "output_type": "stream",
     "text": [
      "              precision    recall  f1-score   support\n",
      "\n",
      "           0       0.97      0.96      0.97      1608\n",
      "           1       0.96      0.97      0.97      1577\n",
      "\n",
      "    accuracy                           0.97      3185\n",
      "   macro avg       0.97      0.97      0.97      3185\n",
      "weighted avg       0.97      0.97      0.97      3185\n",
      "\n"
     ]
    }
   ],
   "source": [
    "svm_model=LinearSVC()\n",
    "svm_model.fit(X_train_2d,y_train)\n",
    "svm_pred=svm_model.predict(X_test_2d)\n",
    "print(classification_report(y_test,svm_pred))"
   ]
  },
  {
   "cell_type": "markdown",
   "id": "d8a3f762-4a70-4c8b-b0c0-842a27691eca",
   "metadata": {},
   "source": [
    "# Testing"
   ]
  },
  {
   "cell_type": "code",
   "execution_count": 57,
   "id": "6908039b-afcf-4a56-b8bb-284f187d8e9c",
   "metadata": {},
   "outputs": [
    {
     "data": {
      "text/html": [
       "<div>\n",
       "<style scoped>\n",
       "    .dataframe tbody tr th:only-of-type {\n",
       "        vertical-align: middle;\n",
       "    }\n",
       "\n",
       "    .dataframe tbody tr th {\n",
       "        vertical-align: top;\n",
       "    }\n",
       "\n",
       "    .dataframe thead th {\n",
       "        text-align: right;\n",
       "    }\n",
       "</style>\n",
       "<table border=\"1\" class=\"dataframe\">\n",
       "  <thead>\n",
       "    <tr style=\"text-align: right;\">\n",
       "      <th></th>\n",
       "      <th>emails</th>\n",
       "    </tr>\n",
       "  </thead>\n",
       "  <tbody>\n",
       "    <tr>\n",
       "      <th>0</th>\n",
       "      <td>I am emailing you because qualified for free l...</td>\n",
       "    </tr>\n",
       "  </tbody>\n",
       "</table>\n",
       "</div>"
      ],
      "text/plain": [
       "                                              emails\n",
       "0  I am emailing you because qualified for free l..."
      ]
     },
     "execution_count": 57,
     "metadata": {},
     "output_type": "execute_result"
    }
   ],
   "source": [
    "#i= 'Congratulation You Won $10000 lottery ! Hurray :)'\n",
    "#i= 'I want this work done by tomorrow. Best regards Faraz'\n",
    "#i= 'I am emailing you because qualified for free lifetime meal at our hotel. Share your card details to avail this offer'\n",
    "df2=pd.DataFrame([i],columns=['emails'])\n",
    "df2"
   ]
  },
  {
   "cell_type": "code",
   "execution_count": 58,
   "id": "cc6b5161-1dad-40de-9427-aea781e26d4b",
   "metadata": {},
   "outputs": [],
   "source": [
    "df2['clean_text']=df2['emails'].apply(lambda x: clean_text(x))\n",
    "df2['vector_text']=df2['clean_text'].apply(lambda x: nlp(str(x)).vector)"
   ]
  },
  {
   "cell_type": "code",
   "execution_count": 59,
   "id": "5ca5753f-c41b-4954-a188-ad4421a8b272",
   "metadata": {},
   "outputs": [],
   "source": [
    "vec=np.stack(df2['vector_text'])"
   ]
  },
  {
   "cell_type": "code",
   "execution_count": 60,
   "id": "29cbb173-9b1c-4165-b168-3ae804d8b11d",
   "metadata": {},
   "outputs": [
    {
     "name": "stdout",
     "output_type": "stream",
     "text": [
      "Spam\n"
     ]
    }
   ],
   "source": [
    "pred1=lr_model.predict(vec)\n",
    "if pred1[0]==1:\n",
    "    print('Spam')\n",
    "\n",
    "else:\n",
    "    print('Ham')"
   ]
  },
  {
   "cell_type": "code",
   "execution_count": 61,
   "id": "868e59d6-0b9a-4212-a5c5-975ea8d919cd",
   "metadata": {},
   "outputs": [
    {
     "name": "stdout",
     "output_type": "stream",
     "text": [
      "Spam\n"
     ]
    }
   ],
   "source": [
    "pred2=svm_model.predict(vec)\n",
    "if pred1[0]==1:\n",
    "    print('Spam')\n",
    "\n",
    "else:\n",
    "    print('Ham')"
   ]
  },
  {
   "cell_type": "markdown",
   "id": "b5081aca-0f4d-4b1d-8278-b4fcd64bee9e",
   "metadata": {},
   "source": [
    "# Saving SVM model for deployment"
   ]
  },
  {
   "cell_type": "code",
   "execution_count": 62,
   "id": "59bfd085-1adb-480b-876a-52280279d487",
   "metadata": {},
   "outputs": [],
   "source": [
    "import pickle as pkl\n",
    "filename= 'spam-svm-model.sav'\n",
    "pkl.dump(svm_model,open(filename,'wb'))"
   ]
  },
  {
   "cell_type": "code",
   "execution_count": null,
   "id": "e997505d-4be4-4fbf-919a-8842a240e8e7",
   "metadata": {},
   "outputs": [],
   "source": []
  }
 ],
 "metadata": {
  "kernelspec": {
   "display_name": "Python 3 (ipykernel)",
   "language": "python",
   "name": "python3"
  },
  "language_info": {
   "codemirror_mode": {
    "name": "ipython",
    "version": 3
   },
   "file_extension": ".py",
   "mimetype": "text/x-python",
   "name": "python",
   "nbconvert_exporter": "python",
   "pygments_lexer": "ipython3",
   "version": "3.12.3"
  }
 },
 "nbformat": 4,
 "nbformat_minor": 5
}
